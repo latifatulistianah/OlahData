{
 "cells": [
  {
   "cell_type": "code",
   "execution_count": null,
   "metadata": {
    "colab": {
     "base_uri": "https://localhost:8080/"
    },
    "id": "PR5pddJI_aQ2",
    "outputId": "ac070b50-20b8-4cff-b745-db0410aca355"
   },
   "outputs": [],
   "source": [
    "#menginstall paket pustaka (library package) mne\n",
    "!pip install mne"
   ]
  },
  {
   "cell_type": "code",
   "execution_count": 1,
   "metadata": {
    "id": "gdH6igyxBBPI"
   },
   "outputs": [],
   "source": [
    "#nama file\n",
    "# name_file = \"/content/drive/MyDrive/EEG_Klasik_Murottal/Klasik/aliza_klasik.csv\"\n",
    "# name_file_export = \"/content/drive/MyDrive/EEG_Klasik_Murottal/Klasik/aliza_klasik.edf\"\n",
    "\n",
    "name_file = \"alvania_murottal.csv\"\n",
    "# name_file = \"/Group A/Aldo/EEG18EDFCase/0000525.EDF\"\n",
    "# print(\"Test cek file\")\n",
    "# print(name_file)\n",
    "# print(\"stop Check\")\n",
    "\n",
    "\n",
    "# name_file_export = \"/content/drive/MyDrive/EEG_Klasik_Murottal/Klasik/aliza_klasik.edf\"\n",
    "\n",
    "\n",
    "\n",
    "#name_file = \"/content/drive/MyDrive/EEG_Klasik_Murottal/Murottal/alvania_murottal.csv\"\n",
    "#name_file_export = \"/content/drive/MyDrive/EEG_Klasik_Murottal/Murottal/alvania_murottal.edf\""
   ]
  },
  {
   "cell_type": "code",
   "execution_count": null,
   "metadata": {},
   "outputs": [],
   "source": [
    "import sys\n",
    "sys.path"
   ]
  },
  {
   "cell_type": "code",
   "execution_count": null,
   "metadata": {
    "colab": {
     "base_uri": "https://localhost:8080/"
    },
    "id": "9ydQcVvjcVK9",
    "outputId": "b2900489-2b20-4177-89c8-d072eb6487ee"
   },
   "outputs": [],
   "source": [
    "pip install mne"
   ]
  },
  {
   "cell_type": "code",
   "execution_count": 7,
   "metadata": {
    "colab": {
     "base_uri": "https://localhost:8080/",
     "height": 226
    },
    "id": "v9ljzQ70_geu",
    "outputId": "4344337a-416c-4279-fbfb-607bfbe025c6"
   },
   "outputs": [
    {
     "data": {
      "text/html": [
       "<div>\n",
       "<style scoped>\n",
       "    .dataframe tbody tr th:only-of-type {\n",
       "        vertical-align: middle;\n",
       "    }\n",
       "\n",
       "    .dataframe tbody tr th {\n",
       "        vertical-align: top;\n",
       "    }\n",
       "\n",
       "    .dataframe thead th {\n",
       "        text-align: right;\n",
       "    }\n",
       "</style>\n",
       "<table border=\"1\" class=\"dataframe\">\n",
       "  <thead>\n",
       "    <tr style=\"text-align: right;\">\n",
       "      <th></th>\n",
       "      <th>Hour</th>\n",
       "      <th>Minute</th>\n",
       "      <th>Second</th>\n",
       "    </tr>\n",
       "  </thead>\n",
       "  <tbody>\n",
       "    <tr>\n",
       "      <th>0</th>\n",
       "      <td>2</td>\n",
       "      <td>3</td>\n",
       "      <td>4</td>\n",
       "    </tr>\n",
       "    <tr>\n",
       "      <th>1</th>\n",
       "      <td>2</td>\n",
       "      <td>3</td>\n",
       "      <td>4</td>\n",
       "    </tr>\n",
       "    <tr>\n",
       "      <th>2</th>\n",
       "      <td>2</td>\n",
       "      <td>3</td>\n",
       "      <td>4</td>\n",
       "    </tr>\n",
       "    <tr>\n",
       "      <th>3</th>\n",
       "      <td>2</td>\n",
       "      <td>3</td>\n",
       "      <td>4</td>\n",
       "    </tr>\n",
       "    <tr>\n",
       "      <th>4</th>\n",
       "      <td>2</td>\n",
       "      <td>3</td>\n",
       "      <td>4</td>\n",
       "    </tr>\n",
       "  </tbody>\n",
       "</table>\n",
       "</div>"
      ],
      "text/plain": [
       "   Hour  Minute  Second\n",
       "0     2       3       4\n",
       "1     2       3       4\n",
       "2     2       3       4\n",
       "3     2       3       4\n",
       "4     2       3       4"
      ]
     },
     "execution_count": 7,
     "metadata": {},
     "output_type": "execute_result"
    }
   ],
   "source": [
    "#mengimpor paket library\n",
    "import pandas as pd\n",
    "import matplotlib.pyplot as plt\n",
    "from mne.preprocessing import ICA\n",
    "\n",
    "#konversi csv ke dataframe pandas (KODE YANG DIPERBAIKI)\n",
    "df = pd.read_csv(name_file, sep=';')\n",
    "df.head()\n",
    "\n",
    "#menghapus kolom 'Time'\n",
    "df.drop(\"Time\", axis=1, inplace=True)\n",
    "\n",
    "#tampilkan dataframe setelah kolom 'Time' dihapus\n",
    "df.head()"
   ]
  },
  {
   "cell_type": "code",
   "execution_count": 8,
   "metadata": {
    "id": "227vpqfDAMfz"
   },
   "outputs": [
    {
     "ename": "KeyError",
     "evalue": "\"['Time'] not found in axis\"",
     "output_type": "error",
     "traceback": [
      "\u001b[31m---------------------------------------------------------------------------\u001b[39m",
      "\u001b[31mKeyError\u001b[39m                                  Traceback (most recent call last)",
      "\u001b[36mCell\u001b[39m\u001b[36m \u001b[39m\u001b[32mIn[8]\u001b[39m\u001b[32m, line 2\u001b[39m\n\u001b[32m      1\u001b[39m \u001b[38;5;66;03m#menghapus kolom 'Time'\u001b[39;00m\n\u001b[32m----> \u001b[39m\u001b[32m2\u001b[39m \u001b[43mdf\u001b[49m\u001b[43m.\u001b[49m\u001b[43mdrop\u001b[49m\u001b[43m(\u001b[49m\u001b[33;43m\"\u001b[39;49m\u001b[33;43mTime\u001b[39;49m\u001b[33;43m\"\u001b[39;49m\u001b[43m,\u001b[49m\u001b[43m \u001b[49m\u001b[43maxis\u001b[49m\u001b[43m=\u001b[49m\u001b[32;43m1\u001b[39;49m\u001b[43m,\u001b[49m\u001b[43m \u001b[49m\u001b[43minplace\u001b[49m\u001b[43m=\u001b[49m\u001b[38;5;28;43;01mTrue\u001b[39;49;00m\u001b[43m)\u001b[49m\n\u001b[32m      4\u001b[39m \u001b[38;5;66;03m#tampilkan dataframe setelah kolom 'Time' dihapus\u001b[39;00m\n\u001b[32m      5\u001b[39m df.head()\n",
      "\u001b[36mFile \u001b[39m\u001b[32m~\\Documents\\OlahData\\olah_data\\Lib\\site-packages\\pandas\\core\\frame.py:5588\u001b[39m, in \u001b[36mDataFrame.drop\u001b[39m\u001b[34m(self, labels, axis, index, columns, level, inplace, errors)\u001b[39m\n\u001b[32m   5440\u001b[39m \u001b[38;5;28;01mdef\u001b[39;00m\u001b[38;5;250m \u001b[39m\u001b[34mdrop\u001b[39m(\n\u001b[32m   5441\u001b[39m     \u001b[38;5;28mself\u001b[39m,\n\u001b[32m   5442\u001b[39m     labels: IndexLabel | \u001b[38;5;28;01mNone\u001b[39;00m = \u001b[38;5;28;01mNone\u001b[39;00m,\n\u001b[32m   (...)\u001b[39m\u001b[32m   5449\u001b[39m     errors: IgnoreRaise = \u001b[33m\"\u001b[39m\u001b[33mraise\u001b[39m\u001b[33m\"\u001b[39m,\n\u001b[32m   5450\u001b[39m ) -> DataFrame | \u001b[38;5;28;01mNone\u001b[39;00m:\n\u001b[32m   5451\u001b[39m \u001b[38;5;250m    \u001b[39m\u001b[33;03m\"\"\"\u001b[39;00m\n\u001b[32m   5452\u001b[39m \u001b[33;03m    Drop specified labels from rows or columns.\u001b[39;00m\n\u001b[32m   5453\u001b[39m \n\u001b[32m   (...)\u001b[39m\u001b[32m   5586\u001b[39m \u001b[33;03m            weight  1.0     0.8\u001b[39;00m\n\u001b[32m   5587\u001b[39m \u001b[33;03m    \"\"\"\u001b[39;00m\n\u001b[32m-> \u001b[39m\u001b[32m5588\u001b[39m     \u001b[38;5;28;01mreturn\u001b[39;00m \u001b[38;5;28;43msuper\u001b[39;49m\u001b[43m(\u001b[49m\u001b[43m)\u001b[49m\u001b[43m.\u001b[49m\u001b[43mdrop\u001b[49m\u001b[43m(\u001b[49m\n\u001b[32m   5589\u001b[39m \u001b[43m        \u001b[49m\u001b[43mlabels\u001b[49m\u001b[43m=\u001b[49m\u001b[43mlabels\u001b[49m\u001b[43m,\u001b[49m\n\u001b[32m   5590\u001b[39m \u001b[43m        \u001b[49m\u001b[43maxis\u001b[49m\u001b[43m=\u001b[49m\u001b[43maxis\u001b[49m\u001b[43m,\u001b[49m\n\u001b[32m   5591\u001b[39m \u001b[43m        \u001b[49m\u001b[43mindex\u001b[49m\u001b[43m=\u001b[49m\u001b[43mindex\u001b[49m\u001b[43m,\u001b[49m\n\u001b[32m   5592\u001b[39m \u001b[43m        \u001b[49m\u001b[43mcolumns\u001b[49m\u001b[43m=\u001b[49m\u001b[43mcolumns\u001b[49m\u001b[43m,\u001b[49m\n\u001b[32m   5593\u001b[39m \u001b[43m        \u001b[49m\u001b[43mlevel\u001b[49m\u001b[43m=\u001b[49m\u001b[43mlevel\u001b[49m\u001b[43m,\u001b[49m\n\u001b[32m   5594\u001b[39m \u001b[43m        \u001b[49m\u001b[43minplace\u001b[49m\u001b[43m=\u001b[49m\u001b[43minplace\u001b[49m\u001b[43m,\u001b[49m\n\u001b[32m   5595\u001b[39m \u001b[43m        \u001b[49m\u001b[43merrors\u001b[49m\u001b[43m=\u001b[49m\u001b[43merrors\u001b[49m\u001b[43m,\u001b[49m\n\u001b[32m   5596\u001b[39m \u001b[43m    \u001b[49m\u001b[43m)\u001b[49m\n",
      "\u001b[36mFile \u001b[39m\u001b[32m~\\Documents\\OlahData\\olah_data\\Lib\\site-packages\\pandas\\core\\generic.py:4807\u001b[39m, in \u001b[36mNDFrame.drop\u001b[39m\u001b[34m(self, labels, axis, index, columns, level, inplace, errors)\u001b[39m\n\u001b[32m   4805\u001b[39m \u001b[38;5;28;01mfor\u001b[39;00m axis, labels \u001b[38;5;129;01min\u001b[39;00m axes.items():\n\u001b[32m   4806\u001b[39m     \u001b[38;5;28;01mif\u001b[39;00m labels \u001b[38;5;129;01mis\u001b[39;00m \u001b[38;5;129;01mnot\u001b[39;00m \u001b[38;5;28;01mNone\u001b[39;00m:\n\u001b[32m-> \u001b[39m\u001b[32m4807\u001b[39m         obj = \u001b[43mobj\u001b[49m\u001b[43m.\u001b[49m\u001b[43m_drop_axis\u001b[49m\u001b[43m(\u001b[49m\u001b[43mlabels\u001b[49m\u001b[43m,\u001b[49m\u001b[43m \u001b[49m\u001b[43maxis\u001b[49m\u001b[43m,\u001b[49m\u001b[43m \u001b[49m\u001b[43mlevel\u001b[49m\u001b[43m=\u001b[49m\u001b[43mlevel\u001b[49m\u001b[43m,\u001b[49m\u001b[43m \u001b[49m\u001b[43merrors\u001b[49m\u001b[43m=\u001b[49m\u001b[43merrors\u001b[49m\u001b[43m)\u001b[49m\n\u001b[32m   4809\u001b[39m \u001b[38;5;28;01mif\u001b[39;00m inplace:\n\u001b[32m   4810\u001b[39m     \u001b[38;5;28mself\u001b[39m._update_inplace(obj)\n",
      "\u001b[36mFile \u001b[39m\u001b[32m~\\Documents\\OlahData\\olah_data\\Lib\\site-packages\\pandas\\core\\generic.py:4849\u001b[39m, in \u001b[36mNDFrame._drop_axis\u001b[39m\u001b[34m(self, labels, axis, level, errors, only_slice)\u001b[39m\n\u001b[32m   4847\u001b[39m         new_axis = axis.drop(labels, level=level, errors=errors)\n\u001b[32m   4848\u001b[39m     \u001b[38;5;28;01melse\u001b[39;00m:\n\u001b[32m-> \u001b[39m\u001b[32m4849\u001b[39m         new_axis = \u001b[43maxis\u001b[49m\u001b[43m.\u001b[49m\u001b[43mdrop\u001b[49m\u001b[43m(\u001b[49m\u001b[43mlabels\u001b[49m\u001b[43m,\u001b[49m\u001b[43m \u001b[49m\u001b[43merrors\u001b[49m\u001b[43m=\u001b[49m\u001b[43merrors\u001b[49m\u001b[43m)\u001b[49m\n\u001b[32m   4850\u001b[39m     indexer = axis.get_indexer(new_axis)\n\u001b[32m   4852\u001b[39m \u001b[38;5;66;03m# Case for non-unique axis\u001b[39;00m\n\u001b[32m   4853\u001b[39m \u001b[38;5;28;01melse\u001b[39;00m:\n",
      "\u001b[36mFile \u001b[39m\u001b[32m~\\Documents\\OlahData\\olah_data\\Lib\\site-packages\\pandas\\core\\indexes\\base.py:7136\u001b[39m, in \u001b[36mIndex.drop\u001b[39m\u001b[34m(self, labels, errors)\u001b[39m\n\u001b[32m   7134\u001b[39m \u001b[38;5;28;01mif\u001b[39;00m mask.any():\n\u001b[32m   7135\u001b[39m     \u001b[38;5;28;01mif\u001b[39;00m errors != \u001b[33m\"\u001b[39m\u001b[33mignore\u001b[39m\u001b[33m\"\u001b[39m:\n\u001b[32m-> \u001b[39m\u001b[32m7136\u001b[39m         \u001b[38;5;28;01mraise\u001b[39;00m \u001b[38;5;167;01mKeyError\u001b[39;00m(\u001b[33mf\u001b[39m\u001b[33m\"\u001b[39m\u001b[38;5;132;01m{\u001b[39;00mlabels[mask].tolist()\u001b[38;5;132;01m}\u001b[39;00m\u001b[33m not found in axis\u001b[39m\u001b[33m\"\u001b[39m)\n\u001b[32m   7137\u001b[39m     indexer = indexer[~mask]\n\u001b[32m   7138\u001b[39m \u001b[38;5;28;01mreturn\u001b[39;00m \u001b[38;5;28mself\u001b[39m.delete(indexer)\n",
      "\u001b[31mKeyError\u001b[39m: \"['Time'] not found in axis\""
     ]
    }
   ],
   "source": [
    "#menghapus kolom 'Time'\n",
    "df.drop(\"Time\", axis=1, inplace=True)\n",
    "\n",
    "#tampilkan dataframe setelah kolom 'Time' dihapus\n",
    "df.head()"
   ]
  },
  {
   "cell_type": "code",
   "execution_count": null,
   "metadata": {
    "colab": {
     "base_uri": "https://localhost:8080/",
     "height": 319
    },
    "id": "SqjqaMUjBBZn",
    "outputId": "05d9f44c-813c-4241-bfdc-ce04764bd48c"
   },
   "outputs": [],
   "source": [
    "#definisi informasi EEG (raw data)\n",
    "sfreq = 100\n",
    "ch_types = [\"eeg\"]*df.shape[1]\n",
    "#ch_names = [\"Fp1-A1\",\"Fp2-A2\",\"F3-A1\",\"F4-A2\",\"C3-A1\",\"C4-A2\",\"P3-A1\",\"P4-A2\",\n",
    "#            \"O1-A1\",\"O2-A2\",\"F7-A1\",\"F8-A2\",\"T3-A1\",\"T4-A2\",\"T5-A1\",\"T6-A2\",\n",
    "#            \"Add_lead1\",\"Add_lead2\"]\n",
    "\n",
    "ch_names = [\"Fp1\",\"Fp2\",\"F3\",\"F4\",\"C3\",\"C4\",\"P3\",\"P4\",\"O1\",\"O2\",\"F7\",\"F8\",\"T3\",\n",
    "            \"T4\",\"T5\",\"T6\",\"A1\",\"A2\"]\n",
    "montage = mne.channels.make_standard_montage(\"standard_1020\")\n",
    "info = mne.create_info(ch_names=ch_names, sfreq=sfreq, ch_types=ch_types)\n",
    "samples = df.T*1e-6\n",
    "raw_data = mne.io.RawArray(samples, info)\n",
    "raw_data.set_montage(montage=montage)\n",
    "\n",
    "#new_names = {\"Fp1-A1\":\"Fp1\",\"Fp2-A2\":\"Fp2\",\"F3-A1\":\"F3\",\"F4-A2\":\"F4\",\n",
    "#             \"C3-A1\":\"C3\",\"C4-A2\":\"C4\",\"P3-A1\":\"P3\",\"P4-A2\":\"P4\",\"O1-A1\":\"O1\",\n",
    "#             \"O2-A2\":\"O2\",\"F7-A1\":\"F7\",\"F8-A2\":\"F8\",\"T3-A1\":\"T3\",\"T4-A2\":\"T4\",\n",
    "#             \"T5-A1\":\"T5\",\"T6-A2\":\"T6\",\"Add_lead1\":\"A1\",\"Add_lead2\":\"A2\"}\n",
    "#raw_data.rename_channels(new_names)"
   ]
  },
  {
   "cell_type": "code",
   "execution_count": null,
   "metadata": {
    "colab": {
     "base_uri": "https://localhost:8080/",
     "height": 246
    },
    "id": "b99ZNfWvERsO",
    "outputId": "0d21ac3d-aedf-428d-816a-9faf4c747dce"
   },
   "outputs": [],
   "source": [
    "#melihat informasi data mentah (raw)\n",
    "raw_data.info"
   ]
  },
  {
   "cell_type": "code",
   "execution_count": null,
   "metadata": {
    "colab": {
     "background_save": true
    },
    "id": "0yu8LE_sV_uZ",
    "outputId": "3e4a37cb-788d-4b4a-816f-f6096e0ab3b7"
   },
   "outputs": [],
   "source": [
    "#plitting (visualisasi) data\n",
    "raw_data.plot(show=False)"
   ]
  },
  {
   "cell_type": "code",
   "execution_count": null,
   "metadata": {
    "colab": {
     "base_uri": "https://localhost:8080/",
     "height": 200
    },
    "id": "_-4TTKXLFN5Z",
    "outputId": "c412ae3c-de4b-4c19-fcb9-e2cc29a2eb95"
   },
   "outputs": [],
   "source": [
    "#visualisasi letak pemetaan sensor elektroda\n",
    "raw_data.plot_sensors(show_names=True, show=False)"
   ]
  },
  {
   "cell_type": "code",
   "execution_count": null,
   "metadata": {
    "id": "VHovKkRz5pUN"
   },
   "outputs": [],
   "source": [
    "#filtrasi dengan menggunakan ICA\n",
    "ica_eeg = ICA(n_components=12, random_state=100) #setup ICA\n",
    "ica_eeg.fit(raw_data) #jalankan ICA"
   ]
  },
  {
   "cell_type": "code",
   "execution_count": null,
   "metadata": {
    "colab": {
     "base_uri": "https://localhost:8080/",
     "height": 219
    },
    "id": "DOAAx8XjZV71",
    "outputId": "b42eecd4-0cd4-486d-db2f-80b69aab7d3b"
   },
   "outputs": [],
   "source": [
    "#visualisasi\n",
    "ica_eeg.plot_sources(raw_data) #plot time series\n",
    "ica_eeg.plot_components() #plot topographies"
   ]
  },
  {
   "cell_type": "code",
   "execution_count": null,
   "metadata": {
    "id": "0e_YAZPzaOlR"
   },
   "outputs": [],
   "source": [
    "raw_data.load_data()\n",
    "ica_eeg.exclude = [0,1,3,9,10]\n",
    "reconst_data = raw_data.copy()\n",
    "ica_eeg.apply(reconst_data)\n",
    "\n",
    "#raw data\n",
    "raw_data.plot(duration=2, show=False)\n",
    "plt.suptitle(\"Data Time Series Kotor\")\n",
    "\n",
    "#rekonstruksi data setelah mengilangkan artefak\n",
    "reconst_data.plot(duration=2, show=False)\n",
    "plt.suptitle(\"Data Time Series Bersih\")\n",
    "plt.show()"
   ]
  },
  {
   "cell_type": "code",
   "execution_count": null,
   "metadata": {
    "colab": {
     "base_uri": "https://localhost:8080/"
    },
    "id": "JTq9QJ_EqsdJ",
    "outputId": "ce5dce9f-c611-4a32-9c26-3e1c3c9f35b6"
   },
   "outputs": [],
   "source": [
    "#menginstal paket pustaka (library package)\n",
    "!pip install EDFlib-Python"
   ]
  },
  {
   "cell_type": "code",
   "execution_count": null,
   "metadata": {
    "id": "qUudDhiQkzhv"
   },
   "outputs": [],
   "source": [
    "#ekspor\n",
    "export = mne.export.export_raw(name_file_export, reconst_data, overwrite=True)\n",
    "export"
   ]
  },
  {
   "cell_type": "code",
   "execution_count": null,
   "metadata": {
    "id": "UGjGy7_2sQP3"
   },
   "outputs": [],
   "source": []
  }
 ],
 "metadata": {
  "colab": {
   "provenance": []
  },
  "kernelspec": {
   "display_name": "Python 3 (ipykernel)",
   "language": "python",
   "name": "python3"
  },
  "language_info": {
   "codemirror_mode": {
    "name": "ipython",
    "version": 3
   },
   "file_extension": ".py",
   "mimetype": "text/x-python",
   "name": "python",
   "nbconvert_exporter": "python",
   "pygments_lexer": "ipython3",
   "version": "3.13.7"
  }
 },
 "nbformat": 4,
 "nbformat_minor": 4
}
